{
  "nbformat": 4,
  "nbformat_minor": 0,
  "metadata": {
    "colab": {
      "provenance": []
    },
    "kernelspec": {
      "name": "python3",
      "display_name": "Python 3"
    },
    "language_info": {
      "name": "python"
    }
  },
  "cells": [
    {
      "cell_type": "markdown",
      "source": [
        "Upload Dataset from local drive"
      ],
      "metadata": {
        "id": "bdO4eZvXptvb"
      }
    },
    {
      "cell_type": "code",
      "source": [
        "from google.colab import files\n",
        "uploaded = files.upload()\n"
      ],
      "metadata": {
        "id": "1wJeUqolrMzN"
      },
      "execution_count": null,
      "outputs": []
    },
    {
      "cell_type": "markdown",
      "source": [
        "1. Read the dataset by passing it as a parameter to the read_csv() in pandas to get the dataframe."
      ],
      "metadata": {
        "id": "W7eorl27qBRj"
      }
    },
    {
      "cell_type": "code",
      "source": [
        "import pandas as pd\n",
        "df = pd.read_csv(\"/content/OhioQuar.csv\")\n",
        "print(df)"
      ],
      "metadata": {
        "colab": {
          "base_uri": "https://localhost:8080/"
        },
        "id": "7IeqPDk2dGYT",
        "outputId": "535d0692-28b2-4735-cefa-383ff6ebfe1c"
      },
      "execution_count": null,
      "outputs": [
        {
          "output_type": "stream",
          "name": "stdout",
          "text": [
            "       API_WellNumber  Production_Year  QUARTER  \\\n",
            "0        3.400000e+13             2020        1   \n",
            "1        3.410000e+13             2020        1   \n",
            "2        3.410000e+13             2020        1   \n",
            "3        3.410000e+13             2020        1   \n",
            "4        3.410000e+13             2020        1   \n",
            "...               ...              ...      ...   \n",
            "10622    3.400000e+13             2020        4   \n",
            "10623    3.400000e+13             2020        4   \n",
            "10624    3.410000e+13             2020        4   \n",
            "10625    3.410000e+13             2020        4   \n",
            "10626    3.410000e+13             2020        4   \n",
            "\n",
            "                          OWNER_NAME    COUNTY     TOWNSHIP  \\\n",
            "0      ANTERO RESOURCES  CORPORATION   BELMONT     KIRKWOOD   \n",
            "1      ANTERO RESOURCES  CORPORATION  GUERNSEY     MILLWOOD   \n",
            "2      ANTERO RESOURCES  CORPORATION  GUERNSEY     MILLWOOD   \n",
            "3      ANTERO RESOURCES  CORPORATION  GUERNSEY     MILLWOOD   \n",
            "4      ANTERO RESOURCES  CORPORATION  GUERNSEY     MILLWOOD   \n",
            "...                              ...       ...          ...   \n",
            "10622                XTO ENERGY INC.   BELMONT         MEAD   \n",
            "10623                XTO ENERGY INC.   BELMONT   WASHINGTON   \n",
            "10624                XTO ENERGY INC.    MONROE  SWITZERLAND   \n",
            "10625                XTO ENERGY INC.    MONROE  SWITZERLAND   \n",
            "10626                XTO ENERGY INC.    MONROE  SWITZERLAND   \n",
            "\n",
            "                        WELL_NAME WELL_NUMBER  OIL       GAS  BRINE  DAYS  \n",
            "0           HORSESHOE UNIT     1H          1H    0         0      0    91  \n",
            "1             J HALL UNIT     10H         10H    1    32,293     55    91  \n",
            "2               J ANDERSON     2H          2H   92    27,276    242    91  \n",
            "3               J ANDERSON     3H          3H  103    28,393    254    91  \n",
            "4               J ANDERSON     4H          4H  107    31,521    255    91  \n",
            "...                           ...         ...  ...       ...    ...   ...  \n",
            "10622               KALDOR     2H          2H    0         0      0     0  \n",
            "10623          PAVICH UNIT     5H          5H    0  2,09,581  3,843    92  \n",
            "10624  MONROE NORTH UNIT C     2H          2H    0  2,40,618  2,104    92  \n",
            "10625    MONROE NORTH UNIT     2H          2H    0    45,501    820    11  \n",
            "10626    MONROE NORTH UNIT     1H          1H    0         0      0     0  \n",
            "\n",
            "[10627 rows x 12 columns]\n"
          ]
        }
      ]
    },
    {
      "cell_type": "markdown",
      "source": [
        "Crosscheck column names"
      ],
      "metadata": {
        "id": "nm4WoIJaqXKn"
      }
    },
    {
      "cell_type": "code",
      "source": [
        "print(df.columns)\n"
      ],
      "metadata": {
        "colab": {
          "base_uri": "https://localhost:8080/"
        },
        "id": "tbrWjAYviYmv",
        "outputId": "a2a020aa-f4ef-4fd0-be6a-2f8dee176949"
      },
      "execution_count": null,
      "outputs": [
        {
          "output_type": "stream",
          "name": "stdout",
          "text": [
            "Index(['API_WellNumber', 'Production_Year', 'QUARTER', 'OWNER_NAME', 'COUNTY',\n",
            "       'TOWNSHIP', 'WELL_NAME', 'WELL_NUMBER', 'OIL', 'GAS', 'BRINE', 'DAYS'],\n",
            "      dtype='object')\n"
          ]
        }
      ]
    },
    {
      "cell_type": "markdown",
      "source": [
        "2. To calculate the annual data for oil, gas, and brine based on the API_WellNumber, we can group the data by the API_WellNumber and then sum the quarterly production values for each category.\n",
        "\n",
        "Here's the code to perform the required calculation:"
      ],
      "metadata": {
        "id": "2iKuECdDprlK"
      }
    },
    {
      "cell_type": "markdown",
      "source": [
        "This code will group the DataFrame df by the 'API_WellNumber' column and calculate the sum of 'OIL', 'GAS', and 'BRINE' for each well. The resulting DataFrame, annual_data, will contain the annual production values for each category."
      ],
      "metadata": {
        "id": "6hxxTQecqyB1"
      }
    },
    {
      "cell_type": "code",
      "source": [
        "annual_data = df.groupby('API_WellNumber')['OIL', 'GAS', 'BRINE'].sum()\n",
        "print(annual_data)"
      ],
      "metadata": {
        "colab": {
          "base_uri": "https://localhost:8080/"
        },
        "id": "ckwH9ScEkNw9",
        "outputId": "ebe06223-ce76-4db1-8a1c-4b5ad76db4c7"
      },
      "execution_count": null,
      "outputs": [
        {
          "output_type": "stream",
          "name": "stdout",
          "text": [
            "                                                              OIL  \\\n",
            "API_WellNumber                                                      \n",
            "3.400000e+13    0000229003950000000003490000000000032809200006...   \n",
            "3.410000e+13    1921031071301582922204236165777488377347544576...   \n",
            "3.420000e+13    2732500001,93345102,056940499000367204004881,2...   \n",
            "\n",
            "                                                              GAS  \\\n",
            "API_WellNumber                                                      \n",
            "3.400000e+13    081,17392,7411,38,57125,01002,76,25943,03066,0...   \n",
            "3.410000e+13    32,29327,27628,39331,52131,33446,77362,98021,9...   \n",
            "3.420000e+13    85,21714,809001425,12916,293013,16811,49320,75...   \n",
            "\n",
            "                                                            BRINE  \n",
            "API_WellNumber                                                     \n",
            "3.400000e+13    01,41560875352401,3989033522351,7794215123222,...  \n",
            "3.410000e+13    55242254255324209708546931,2158414931,1215341,...  \n",
            "3.420000e+13    1,63873000517198016666666540007516001,4708981,...  \n"
          ]
        },
        {
          "output_type": "stream",
          "name": "stderr",
          "text": [
            "<ipython-input-20-d9277edba200>:1: FutureWarning: Indexing with multiple keys (implicitly converted to a tuple of keys) will be deprecated, use a list instead.\n",
            "  annual_data = df.groupby('API_WellNumber')['OIL', 'GAS', 'BRINE'].sum()\n"
          ]
        }
      ]
    },
    {
      "cell_type": "markdown",
      "source": [
        "3. To load the calculated annual data into a local SQLite database using Python, we need to install the sqlite3 package."
      ],
      "metadata": {
        "id": "mqX8j_2VquJD"
      }
    },
    {
      "cell_type": "markdown",
      "source": [
        "This code creates a table called annual_data in the database with columns for API_WellNumber, OIL, GAS, and BRINE. It then iterates over the annual data DataFrame and inserts the values into the table."
      ],
      "metadata": {
        "id": "eJrA1fn1rhiv"
      }
    },
    {
      "cell_type": "code",
      "source": [
        "import sqlite3\n",
        "\n",
        "# Connect to the SQLite database\n",
        "conn = sqlite3.connect('Ohio_Database.db')  # Replace 'your_database_name.db' with the desired database name\n",
        "\n",
        "# Create a cursor object to execute SQL commands\n",
        "cursor = conn.cursor()\n",
        "\n",
        "# Create a table for the annual data\n",
        "cursor.execute('''\n",
        "    CREATE TABLE IF NOT EXISTS annual_data (\n",
        "        API_WellNumber INTEGER PRIMARY KEY,\n",
        "        OIL INTEGER,\n",
        "        GAS INTEGER,\n",
        "        BRINE INTEGER\n",
        "    )\n",
        "''')\n",
        "\n",
        "# Insert the annual data into the table\n",
        "for index, row in annual_data.iterrows():\n",
        "    api_wellnumber = int(index)\n",
        "    oil = row['OIL']\n",
        "    gas = row['GAS']\n",
        "    brine = row['BRINE']\n",
        "    \n",
        "    cursor.execute('INSERT OR IGNORE INTO annual_data (API_WellNumber, OIL, GAS, BRINE) VALUES (?, ?, ?, ?)',\n",
        "               (api_wellnumber, oil, gas, brine))\n",
        "\n",
        "# Commit the changes and close the connection\n",
        "conn.commit()\n",
        "conn.close()\n",
        "\n"
      ],
      "metadata": {
        "id": "GYo757xWkVLR"
      },
      "execution_count": null,
      "outputs": []
    },
    {
      "cell_type": "markdown",
      "source": [
        "4. Now as we run the Flask app, we can send a GET request to http://localhost:8080/data?well=34059242540000, and it will return the annual data for the specified well in the JSON format as mentioned in your example."
      ],
      "metadata": {
        "id": "iQ7JOVOsrsYL"
      }
    },
    {
      "cell_type": "code",
      "source": [
        "from flask import Flask, jsonify, request\n",
        "import sqlite3\n",
        "\n",
        "# Create a Flask app\n",
        "app = Flask(__name__)\n",
        "\n",
        "# Define the route for retrieving annual data\n",
        "@app.route('/data', methods=['GET'])\n",
        "def get_annual_data():\n",
        "    # Extract the well API_WellNumber from the query parameters\n",
        "    well_api_number = request.args.get('well')\n",
        "    \n",
        "    # Connect to the SQLite database\n",
        "    conn = sqlite3.connect('Ohio_Database.db')\n",
        "\n",
        "    # Create a cursor object to execute SQL commands\n",
        "    cursor = conn.cursor()\n",
        "\n",
        "    # Retrieve the annual data for the specified well API_WellNumber\n",
        "    cursor.execute(\"SELECT OIL, GAS, BRINE FROM annual_data WHERE API_WellNumber = ?\", (well_api_number,))\n",
        "    result = cursor.fetchone()\n",
        "\n",
        "    # Close the connection to the database\n",
        "    conn.close()\n",
        "\n",
        "    # If the well API_WellNumber is found in the database, return the annual data\n",
        "    if result is not None:\n",
        "        oil, gas, brine = result\n",
        "        annual_data = {\n",
        "            'oil': oil,\n",
        "            'gas': gas,\n",
        "            'brine': brine\n",
        "        }\n",
        "        return jsonify(annual_data)\n",
        "    \n",
        "    # If the well API_WellNumber is not found in the database, return an error message\n",
        "    error_message = {\n",
        "        'error': f\"No annual data found for well API_WellNumber {well_api_number}\"\n",
        "    }\n",
        "    return jsonify(error_message), 404\n",
        "\n",
        "# Run the Flask app on port 8080\n",
        "if __name__ == '__main__':\n",
        "    app.run(port=5000)\n"
      ],
      "metadata": {
        "colab": {
          "base_uri": "https://localhost:8080/"
        },
        "id": "9qdeVqRDl8k6",
        "outputId": "4a79f862-e25b-400d-db19-1eadd5474ab7"
      },
      "execution_count": null,
      "outputs": [
        {
          "output_type": "stream",
          "name": "stdout",
          "text": [
            " * Serving Flask app '__main__'\n",
            " * Debug mode: off\n"
          ]
        },
        {
          "output_type": "stream",
          "name": "stderr",
          "text": [
            "INFO:werkzeug:\u001b[31m\u001b[1mWARNING: This is a development server. Do not use it in a production deployment. Use a production WSGI server instead.\u001b[0m\n",
            " * Running on http://127.0.0.1:5000\n",
            "INFO:werkzeug:\u001b[33mPress CTRL+C to quit\u001b[0m\n"
          ]
        }
      ]
    }
  ]
}